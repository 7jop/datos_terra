{
 "cells": [
  {
   "cell_type": "markdown",
   "id": "f7cce1a1",
   "metadata": {},
   "source": [
    "https://neptune.ai/blog/customer-segmentation-using-machine-learning"
   ]
  },
  {
   "cell_type": "code",
   "execution_count": 1,
   "id": "ac0c88c8",
   "metadata": {},
   "outputs": [],
   "source": [
    "import  pandas as pd\n",
    "import numpy as np"
   ]
  },
  {
   "cell_type": "code",
   "execution_count": 2,
   "id": "0d35b027",
   "metadata": {},
   "outputs": [],
   "source": [
    "df=pd.read_csv(\"../data/customers-data - customers-data.csv\")"
   ]
  },
  {
   "cell_type": "code",
   "execution_count": 3,
   "id": "a94c7663",
   "metadata": {},
   "outputs": [
    {
     "data": {
      "application/vnd.microsoft.datawrangler.viewer.v0+json": {
       "columns": [
        {
         "name": "index",
         "rawType": "int64",
         "type": "integer"
        },
        {
         "name": "customer_id",
         "rawType": "int64",
         "type": "integer"
        },
        {
         "name": "products_purchased",
         "rawType": "int64",
         "type": "integer"
        },
        {
         "name": "complains",
         "rawType": "int64",
         "type": "integer"
        },
        {
         "name": "money_spent",
         "rawType": "float64",
         "type": "float"
        }
       ],
       "ref": "7a6e797f-59ba-4682-bdbc-0ab36e6d0319",
       "rows": [
        [
         "0",
         "1000661",
         "1",
         "0",
         "260.0"
        ],
        [
         "1",
         "1001914",
         "1",
         "0",
         "790.2"
        ],
        [
         "2",
         "1002167",
         "3",
         "0",
         "234.2"
        ],
        [
         "3",
         "1002387",
         "1",
         "0",
         "890.0"
        ],
        [
         "4",
         "1002419",
         "2",
         "0",
         "103.0"
        ],
        [
         "5",
         "1000660",
         "1",
         "0",
         "261.0"
        ],
        [
         "6",
         "1001913",
         "1",
         "0",
         "791.2"
        ],
        [
         "7",
         "1002166",
         "3",
         "0",
         "232.2"
        ],
        [
         "8",
         "1002388",
         "1",
         "0",
         "891.0"
        ],
        [
         "9",
         "1002410",
         "2",
         "0",
         "102.0"
        ],
        [
         "10",
         "1000660",
         "1",
         "0",
         "260.0"
        ],
        [
         "11",
         "1001913",
         "1",
         "0",
         "790.2"
        ],
        [
         "12",
         "1002164",
         "3",
         "0",
         "238.2"
        ],
        [
         "13",
         "1002380",
         "1",
         "0",
         "892.0"
        ],
        [
         "14",
         "1002411",
         "2",
         "0",
         "105.0"
        ],
        [
         "15",
         "1000661",
         "1",
         "0",
         "263.0"
        ],
        [
         "16",
         "1001915",
         "1",
         "0",
         "799.2"
        ],
        [
         "17",
         "1002165",
         "3",
         "0",
         "235.2"
        ],
        [
         "18",
         "1002387",
         "1",
         "0",
         "894.0"
        ],
        [
         "19",
         "1002411",
         "2",
         "0",
         "105.0"
        ],
        [
         "20",
         "1000661",
         "1",
         "0",
         "260.0"
        ],
        [
         "21",
         "1001914",
         "1",
         "0",
         "790.2"
        ],
        [
         "22",
         "1002167",
         "3",
         "0",
         "234.2"
        ],
        [
         "23",
         "1002387",
         "1",
         "0",
         "890.0"
        ],
        [
         "24",
         "1002419",
         "2",
         "0",
         "103.0"
        ],
        [
         "25",
         "1000660",
         "1",
         "0",
         "261.0"
        ],
        [
         "26",
         "1001913",
         "1",
         "0",
         "791.2"
        ],
        [
         "27",
         "1002166",
         "3",
         "0",
         "232.2"
        ],
        [
         "28",
         "1002388",
         "1",
         "0",
         "891.0"
        ],
        [
         "29",
         "1002410",
         "2",
         "0",
         "102.0"
        ],
        [
         "30",
         "1000660",
         "1",
         "0",
         "260.0"
        ],
        [
         "31",
         "1001913",
         "1",
         "0",
         "790.2"
        ],
        [
         "32",
         "1002164",
         "3",
         "0",
         "238.2"
        ],
        [
         "33",
         "1002380",
         "1",
         "0",
         "892.0"
        ],
        [
         "34",
         "1002411",
         "2",
         "0",
         "105.0"
        ],
        [
         "35",
         "1000661",
         "1",
         "0",
         "263.0"
        ],
        [
         "36",
         "1001915",
         "1",
         "0",
         "799.2"
        ],
        [
         "37",
         "1002165",
         "3",
         "0",
         "235.2"
        ],
        [
         "38",
         "1002387",
         "1",
         "0",
         "894.0"
        ],
        [
         "39",
         "1002411",
         "2",
         "0",
         "105.0"
        ],
        [
         "40",
         "1000661",
         "1",
         "0",
         "260.0"
        ],
        [
         "41",
         "1001914",
         "1",
         "0",
         "790.2"
        ],
        [
         "42",
         "1002167",
         "3",
         "0",
         "234.2"
        ],
        [
         "43",
         "1002387",
         "1",
         "0",
         "890.0"
        ],
        [
         "44",
         "1002419",
         "2",
         "0",
         "103.0"
        ],
        [
         "45",
         "1000660",
         "1",
         "0",
         "261.0"
        ],
        [
         "46",
         "1001913",
         "1",
         "0",
         "791.2"
        ],
        [
         "47",
         "1002166",
         "3",
         "0",
         "232.2"
        ],
        [
         "48",
         "1002388",
         "1",
         "0",
         "891.0"
        ],
        [
         "49",
         "1002410",
         "2",
         "0",
         "102.0"
        ]
       ],
       "shape": {
        "columns": 4,
        "rows": 24000
       }
      },
      "text/html": [
       "<div>\n",
       "<style scoped>\n",
       "    .dataframe tbody tr th:only-of-type {\n",
       "        vertical-align: middle;\n",
       "    }\n",
       "\n",
       "    .dataframe tbody tr th {\n",
       "        vertical-align: top;\n",
       "    }\n",
       "\n",
       "    .dataframe thead th {\n",
       "        text-align: right;\n",
       "    }\n",
       "</style>\n",
       "<table border=\"1\" class=\"dataframe\">\n",
       "  <thead>\n",
       "    <tr style=\"text-align: right;\">\n",
       "      <th></th>\n",
       "      <th>customer_id</th>\n",
       "      <th>products_purchased</th>\n",
       "      <th>complains</th>\n",
       "      <th>money_spent</th>\n",
       "    </tr>\n",
       "  </thead>\n",
       "  <tbody>\n",
       "    <tr>\n",
       "      <th>0</th>\n",
       "      <td>1000661</td>\n",
       "      <td>1</td>\n",
       "      <td>0</td>\n",
       "      <td>260.0</td>\n",
       "    </tr>\n",
       "    <tr>\n",
       "      <th>1</th>\n",
       "      <td>1001914</td>\n",
       "      <td>1</td>\n",
       "      <td>0</td>\n",
       "      <td>790.2</td>\n",
       "    </tr>\n",
       "    <tr>\n",
       "      <th>2</th>\n",
       "      <td>1002167</td>\n",
       "      <td>3</td>\n",
       "      <td>0</td>\n",
       "      <td>234.2</td>\n",
       "    </tr>\n",
       "    <tr>\n",
       "      <th>3</th>\n",
       "      <td>1002387</td>\n",
       "      <td>1</td>\n",
       "      <td>0</td>\n",
       "      <td>890.0</td>\n",
       "    </tr>\n",
       "    <tr>\n",
       "      <th>4</th>\n",
       "      <td>1002419</td>\n",
       "      <td>2</td>\n",
       "      <td>0</td>\n",
       "      <td>103.0</td>\n",
       "    </tr>\n",
       "    <tr>\n",
       "      <th>...</th>\n",
       "      <td>...</td>\n",
       "      <td>...</td>\n",
       "      <td>...</td>\n",
       "      <td>...</td>\n",
       "    </tr>\n",
       "    <tr>\n",
       "      <th>23995</th>\n",
       "      <td>1000661</td>\n",
       "      <td>1</td>\n",
       "      <td>0</td>\n",
       "      <td>263.0</td>\n",
       "    </tr>\n",
       "    <tr>\n",
       "      <th>23996</th>\n",
       "      <td>1001915</td>\n",
       "      <td>1</td>\n",
       "      <td>1</td>\n",
       "      <td>799.2</td>\n",
       "    </tr>\n",
       "    <tr>\n",
       "      <th>23997</th>\n",
       "      <td>1002165</td>\n",
       "      <td>3</td>\n",
       "      <td>0</td>\n",
       "      <td>235.2</td>\n",
       "    </tr>\n",
       "    <tr>\n",
       "      <th>23998</th>\n",
       "      <td>1002387</td>\n",
       "      <td>1</td>\n",
       "      <td>0</td>\n",
       "      <td>894.0</td>\n",
       "    </tr>\n",
       "    <tr>\n",
       "      <th>23999</th>\n",
       "      <td>1002411</td>\n",
       "      <td>2</td>\n",
       "      <td>0</td>\n",
       "      <td>105.0</td>\n",
       "    </tr>\n",
       "  </tbody>\n",
       "</table>\n",
       "<p>24000 rows × 4 columns</p>\n",
       "</div>"
      ],
      "text/plain": [
       "       customer_id  products_purchased  complains  money_spent\n",
       "0          1000661                   1          0        260.0\n",
       "1          1001914                   1          0        790.2\n",
       "2          1002167                   3          0        234.2\n",
       "3          1002387                   1          0        890.0\n",
       "4          1002419                   2          0        103.0\n",
       "...            ...                 ...        ...          ...\n",
       "23995      1000661                   1          0        263.0\n",
       "23996      1001915                   1          1        799.2\n",
       "23997      1002165                   3          0        235.2\n",
       "23998      1002387                   1          0        894.0\n",
       "23999      1002411                   2          0        105.0\n",
       "\n",
       "[24000 rows x 4 columns]"
      ]
     },
     "execution_count": 3,
     "metadata": {},
     "output_type": "execute_result"
    }
   ],
   "source": [
    "df"
   ]
  }
 ],
 "metadata": {
  "kernelspec": {
   "display_name": "Python 3",
   "language": "python",
   "name": "python3"
  },
  "language_info": {
   "codemirror_mode": {
    "name": "ipython",
    "version": 3
   },
   "file_extension": ".py",
   "mimetype": "text/x-python",
   "name": "python",
   "nbconvert_exporter": "python",
   "pygments_lexer": "ipython3",
   "version": "3.11.9"
  }
 },
 "nbformat": 4,
 "nbformat_minor": 5
}
